{
  "nbformat": 4,
  "nbformat_minor": 0,
  "metadata": {
    "colab": {
      "provenance": [],
      "authorship_tag": "ABX9TyMshd2Qp8Yt7Rvp9+379hfx",
      "include_colab_link": true
    },
    "kernelspec": {
      "name": "python3",
      "display_name": "Python 3"
    },
    "language_info": {
      "name": "python"
    }
  },
  "cells": [
    {
      "cell_type": "markdown",
      "metadata": {
        "id": "view-in-github",
        "colab_type": "text"
      },
      "source": [
        "<a href=\"https://colab.research.google.com/github/JudithGH/CursodeLenguajesDeProgramaci-n/blob/main/PORTAFOLIO/Untitled1.ipynb\" target=\"_parent\"><img src=\"https://colab.research.google.com/assets/colab-badge.svg\" alt=\"Open In Colab\"/></a>"
      ]
    },
    {
      "cell_type": "code",
      "execution_count": null,
      "metadata": {
        "id": "BoRBBxmcfVqN"
      },
      "outputs": [],
      "source": []
    },
    {
      "cell_type": "markdown",
      "source": [
        " Declaración de Variables y Listas"
      ],
      "metadata": {
        "id": "P-ghEE50fcmh"
      }
    },
    {
      "cell_type": "code",
      "source": [
        "clientes = [\"Juan Perez\", \"Maria Rodriguez\", \"Carlos Lopez\", \"Ana Gomez\"]\n",
        "montos_invertidos = [10000, 15000, 20000, 18000]\n",
        "rendimientos = [5.5, 6.0, 4.0, 7.5]\n",
        "\n",
        "cliente_1 = (clientes[0], montos_invertidos[0], rendimientos[0])\n",
        "cliente_2 = (clientes[1], montos_invertidos[1], rendimientos[1])\n",
        "cliente_3 = (clientes[2], montos_invertidos[2], rendimientos[2])\n",
        "cliente_4 = (clientes[3], montos_invertidos[3], rendimientos[3])"
      ],
      "metadata": {
        "id": "sLkoRB4LfiGa"
      },
      "execution_count": 1,
      "outputs": []
    },
    {
      "cell_type": "markdown",
      "source": [
        "# Parte 2: Diccionarios y Condicionales"
      ],
      "metadata": {
        "id": "9WtSx4Ksfq_w"
      }
    },
    {
      "cell_type": "code",
      "source": [
        "portafolio = {\n",
        "    \"Juan Perez\": {\"monto_invertido\": 10000, \"rendimiento\": 5.5},\n",
        "    \"Maria Rodriguez\": {\"monto_invertido\": 15000, \"rendimiento\": 6.0},\n",
        "    \"Carlos Lopez\": {\"monto_invertido\": 20000, \"rendimiento\": 4.0},\n",
        "    \"Ana Gomez\": {\"monto_invertido\": 18000, \"rendimiento\": 7.5}\n",
        "}\n",
        "\n",
        "print(\"Clientes con rendimiento mayor al 5%:\")\n",
        "for cliente, datos in portafolio.items():\n",
        "    if datos[\"rendimiento\"] > 5:\n",
        "        print(f\"{cliente} tiene un rendimiento de {datos['rendimiento']}%\")"
      ],
      "metadata": {
        "colab": {
          "base_uri": "https://localhost:8080/"
        },
        "id": "c4C6elzKfstt",
        "outputId": "d193471e-7724-40cc-eaa0-97e4b99fc2e2"
      },
      "execution_count": 2,
      "outputs": [
        {
          "output_type": "stream",
          "name": "stdout",
          "text": [
            "Clientes con rendimiento mayor al 5%:\n",
            "Juan Perez tiene un rendimiento de 5.5%\n",
            "Maria Rodriguez tiene un rendimiento de 6.0%\n",
            "Ana Gomez tiene un rendimiento de 7.5%\n"
          ]
        }
      ]
    },
    {
      "cell_type": "markdown",
      "source": [
        "# Parte 3: Cálculos con Ciclos\n"
      ],
      "metadata": {
        "id": "_DziGe87f5ej"
      }
    },
    {
      "cell_type": "code",
      "source": [
        "rendimiento_total = 0\n",
        "\n",
        "for cliente, datos in portafolio.items():\n",
        "    rendimiento_cliente = (datos[\"monto_invertido\"] * datos[\"rendimiento\"]) / 100\n",
        "    rendimiento_total += rendimiento_cliente\n",
        "\n",
        "print(f\"\\nEl rendimiento total del portafolio es: ${rendimiento_total:.2f}\")\n",
        "\n",
        "mayor_rendimiento = 0\n",
        "cliente_mayor_rendimiento = \"\"\n",
        "\n",
        "for cliente, datos in portafolio.items():\n",
        "    rendimiento_cliente = (datos[\"monto_invertido\"] * datos[\"rendimiento\"]) / 100\n",
        "    if rendimiento_cliente > mayor_rendimiento:\n",
        "        mayor_rendimiento = rendimiento_cliente\n",
        "        cliente_mayor_rendimiento = cliente\n",
        "\n",
        "print(f\"{cliente_mayor_rendimiento} tiene el mayor rendimiento con ${mayor_rendimiento:.2f}\")"
      ],
      "metadata": {
        "colab": {
          "base_uri": "https://localhost:8080/"
        },
        "id": "EaaxrAjEf6TD",
        "outputId": "9ecefa5c-f2b4-491f-d7b2-7a93a8eb304f"
      },
      "execution_count": 3,
      "outputs": [
        {
          "output_type": "stream",
          "name": "stdout",
          "text": [
            "\n",
            "El rendimiento total del portafolio es: $3600.00\n",
            "Ana Gomez tiene el mayor rendimiento con $1350.00\n"
          ]
        }
      ]
    },
    {
      "cell_type": "markdown",
      "source": [
        "# Parte 4: Modificaciones del Portafolio"
      ],
      "metadata": {
        "id": "jQjiaKGPgtcF"
      }
    },
    {
      "cell_type": "code",
      "source": [
        "# Actualizar el monto invertido de Carlos Lopez\n",
        "portafolio[\"Carlos Lopez\"][\"monto_invertido\"] = 25000\n",
        "\n",
        "# Añadir nuevo cliente Laura Fernandez\n",
        "portafolio[\"Laura Fernandez\"] = {\"monto_invertido\": 22000, \"rendimiento\": 6.8}\n",
        "\n",
        "# Remover a Ana Gomez\n",
        "del portafolio[\"Ana Gomez\"]\n",
        "\n",
        "# Mostrar el portafolio actualizado\n",
        "print(\"\\nPortafolio actualizado:\")\n",
        "for cliente, datos in portafolio.items():\n",
        "    print(f\"{cliente}: Inversión = ${datos['monto_invertido']}, Rendimiento = {datos['rendimiento']}%\")"
      ],
      "metadata": {
        "colab": {
          "base_uri": "https://localhost:8080/"
        },
        "id": "G904vaOsguVB",
        "outputId": "b250d0e4-51d9-4fae-af80-9969c2d5c39b"
      },
      "execution_count": 4,
      "outputs": [
        {
          "output_type": "stream",
          "name": "stdout",
          "text": [
            "\n",
            "Portafolio actualizado:\n",
            "Juan Perez: Inversión = $10000, Rendimiento = 5.5%\n",
            "Maria Rodriguez: Inversión = $15000, Rendimiento = 6.0%\n",
            "Carlos Lopez: Inversión = $25000, Rendimiento = 4.0%\n",
            "Laura Fernandez: Inversión = $22000, Rendimiento = 6.8%\n"
          ]
        }
      ]
    }
  ]
}