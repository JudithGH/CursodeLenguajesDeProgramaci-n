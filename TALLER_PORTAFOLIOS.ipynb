{
  "nbformat": 4,
  "nbformat_minor": 0,
  "metadata": {
    "colab": {
      "provenance": [],
      "authorship_tag": "ABX9TyPZQ27QAHm6/aHV7AJjQj9j",
      "include_colab_link": true
    },
    "kernelspec": {
      "name": "python3",
      "display_name": "Python 3"
    },
    "language_info": {
      "name": "python"
    }
  },
  "cells": [
    {
      "cell_type": "markdown",
      "metadata": {
        "id": "view-in-github",
        "colab_type": "text"
      },
      "source": [
        "<a href=\"https://colab.research.google.com/github/JudithGH/CursodeLenguajesDeProgramaci-n/blob/main/TALLER_PORTAFOLIOS.ipynb\" target=\"_parent\"><img src=\"https://colab.research.google.com/assets/colab-badge.svg\" alt=\"Open In Colab\"/></a>"
      ]
    },
    {
      "cell_type": "code",
      "execution_count": 2,
      "metadata": {
        "colab": {
          "base_uri": "https://localhost:8080/"
        },
        "id": "4o3t5JaaoQZZ",
        "outputId": "11df729d-6521-4b98-83fd-ec7d2b351119"
      },
      "outputs": [
        {
          "output_type": "stream",
          "name": "stdout",
          "text": [
            "['Juan Perez', 'Maria Rodriguez', 'Carlos Lopez', 'Ana Gomez']\n",
            "[10000, 15000, 20000, 18000]\n",
            "[5.5, 6.0, 4.0, 7.5]\n"
          ]
        }
      ],
      "source": [
        "#LISTA DE CLIENTES\n",
        "clientes = [\"Juan Perez\", \"Maria Rodriguez\", \"Carlos Lopez\", \"Ana Gomez\"]\n",
        "Montos_invertidos= [10000, 15000, 20000, 18000] # en dólares\n",
        "Rendimientos= [5.5, 6.0, 4.0, 7.5] # en porcentaje\n",
        "print(clientes)\n",
        "print(Montos_invertidos)\n",
        "print(Rendimientos)"
      ]
    },
    {
      "cell_type": "code",
      "source": [
        "cliente_1 = (\"Juan Perez\" , 10000, 5.5)\n",
        "print(cliente_1)"
      ],
      "metadata": {
        "colab": {
          "base_uri": "https://localhost:8080/"
        },
        "id": "fD1oyjEZvr-2",
        "outputId": "18faaeee-6393-4fde-cdd7-5c340ae49ff8"
      },
      "execution_count": 7,
      "outputs": [
        {
          "output_type": "stream",
          "name": "stdout",
          "text": [
            "('Juan Perez', 10000, 5.5)\n"
          ]
        }
      ]
    },
    {
      "cell_type": "code",
      "source": [
        "cliente_2 = (\"Maria Rodriguez\" , 15000, 6.0)\n",
        "print(cliente_2)"
      ],
      "metadata": {
        "colab": {
          "base_uri": "https://localhost:8080/"
        },
        "id": "TPBPLacSwQKU",
        "outputId": "1e8d1ca6-1aec-4a23-cb71-1854b0244b8d"
      },
      "execution_count": 9,
      "outputs": [
        {
          "output_type": "stream",
          "name": "stdout",
          "text": [
            "('Maria Rodriguez', 15000, 6.0)\n"
          ]
        }
      ]
    },
    {
      "cell_type": "code",
      "source": [
        "cliente_3 = (\"Carlos Lopez\" , 20000, 4.0)\n",
        "print(cliente_3)"
      ],
      "metadata": {
        "colab": {
          "base_uri": "https://localhost:8080/"
        },
        "id": "8NE-PWkswXLa",
        "outputId": "56b3a806-e8f2-4456-dd93-923680036141"
      },
      "execution_count": 10,
      "outputs": [
        {
          "output_type": "stream",
          "name": "stdout",
          "text": [
            "('Carlos Lopez', 20000, 4.0)\n"
          ]
        }
      ]
    },
    {
      "cell_type": "code",
      "source": [
        "cliente_4 = (\"Ana Gomez\" , 18000, 7.5)\n",
        "print(cliente_4)"
      ],
      "metadata": {
        "colab": {
          "base_uri": "https://localhost:8080/"
        },
        "id": "-ebL8DWZw38T",
        "outputId": "bea1cae9-adc8-4263-883e-465920a4d4a6"
      },
      "execution_count": 11,
      "outputs": [
        {
          "output_type": "stream",
          "name": "stdout",
          "text": [
            "('Ana Gomez', 18000, 7.5)\n"
          ]
        }
      ]
    },
    {
      "cell_type": "code",
      "source": [
        "def Portafolio = {\n",
        "    \"Juan Perez\": {\"Montos_invertidos\": 10000, \"rendimiento\": 5.5},\n",
        "    \"Maria Rodriguez\": {\"Montos_invertidos\": 15000, \"rendimiento\": 6.0},\n",
        "    \"Carlos Lopez\": {\"Montos_invertidos\": 18000, \"rendimiento\": 4.0},\n",
        "    \"Ana Gomez\": {\"Montos_invertidos\": 20000, \"rendimiento\": 7.5}\n",
        "\n",
        "    }\n",
        "    print(type(registro_clientes))\n",
        "    print(registro_clientes)"
      ],
      "metadata": {
        "colab": {
          "base_uri": "https://localhost:8080/",
          "height": 110
        },
        "id": "jPFTpU-HxE92",
        "outputId": "7377294a-a7cb-4b4b-faf3-5709ccdcbd0b"
      },
      "execution_count": 27,
      "outputs": [
        {
          "output_type": "error",
          "ename": "SyntaxError",
          "evalue": "expected '(' (<ipython-input-27-3e804030cf48>, line 1)",
          "traceback": [
            "\u001b[0;36m  File \u001b[0;32m\"<ipython-input-27-3e804030cf48>\"\u001b[0;36m, line \u001b[0;32m1\u001b[0m\n\u001b[0;31m    def Portafolio = {\u001b[0m\n\u001b[0m                   ^\u001b[0m\n\u001b[0;31mSyntaxError\u001b[0m\u001b[0;31m:\u001b[0m expected '('\n"
          ]
        }
      ]
    },
    {
      "cell_type": "code",
      "source": [
        "for clientes, datos in portafolio.items():\n",
        "  if datos [\"rendimientos\"] > 5.0:\n",
        "    print(f\"{clientes} tiene un rendimiento de {datos['rendimiento']}%\")"
      ],
      "metadata": {
        "colab": {
          "base_uri": "https://localhost:8080/",
          "height": 183
        },
        "id": "uo5KnJdC2A-W",
        "outputId": "8f7f100d-26f9-4929-9bc9-71a205aedc05"
      },
      "execution_count": 28,
      "outputs": [
        {
          "output_type": "error",
          "ename": "NameError",
          "evalue": "name 'portafolio' is not defined",
          "traceback": [
            "\u001b[0;31m---------------------------------------------------------------------------\u001b[0m",
            "\u001b[0;31mNameError\u001b[0m                                 Traceback (most recent call last)",
            "\u001b[0;32m<ipython-input-28-7771d6c4d1bf>\u001b[0m in \u001b[0;36m<cell line: 0>\u001b[0;34m()\u001b[0m\n\u001b[0;32m----> 1\u001b[0;31m \u001b[0;32mfor\u001b[0m \u001b[0mclientes\u001b[0m\u001b[0;34m,\u001b[0m \u001b[0mdatos\u001b[0m \u001b[0;32min\u001b[0m \u001b[0mportafolio\u001b[0m\u001b[0;34m.\u001b[0m\u001b[0mitems\u001b[0m\u001b[0;34m(\u001b[0m\u001b[0;34m)\u001b[0m\u001b[0;34m:\u001b[0m\u001b[0;34m\u001b[0m\u001b[0;34m\u001b[0m\u001b[0m\n\u001b[0m\u001b[1;32m      2\u001b[0m   \u001b[0;32mif\u001b[0m \u001b[0mdatos\u001b[0m \u001b[0;34m[\u001b[0m\u001b[0;34m\"rendimientos\"\u001b[0m\u001b[0;34m]\u001b[0m \u001b[0;34m>\u001b[0m \u001b[0;36m5.0\u001b[0m\u001b[0;34m:\u001b[0m\u001b[0;34m\u001b[0m\u001b[0;34m\u001b[0m\u001b[0m\n\u001b[1;32m      3\u001b[0m     \u001b[0mprint\u001b[0m\u001b[0;34m(\u001b[0m\u001b[0;34mf\"{clientes} tiene un rendimiento de {datos['rendimiento']}%\"\u001b[0m\u001b[0;34m)\u001b[0m\u001b[0;34m\u001b[0m\u001b[0;34m\u001b[0m\u001b[0m\n",
            "\u001b[0;31mNameError\u001b[0m: name 'portafolio' is not defined"
          ]
        }
      ]
    },
    {
      "cell_type": "code",
      "source": [
        "rendimiento_total = 0\n",
        "for clientes,datos in Portafolio.items():\n",
        "         rendimiento_total = (datos[\"montos_invertidos\"] *\n",
        "                              datos[\"rendimientos\"]) / 100\n",
        "         rendimiento_total+= rendimiento_cliente\n",
        "         print(f\"{clientes} tiene un rendimiento de {datos['rendimiento']}%\")"
      ],
      "metadata": {
        "colab": {
          "base_uri": "https://localhost:8080/",
          "height": 220
        },
        "id": "2ApRD6XM4ipO",
        "outputId": "b58197c5-cd88-446f-c662-bb6f370df5a2"
      },
      "execution_count": 30,
      "outputs": [
        {
          "output_type": "error",
          "ename": "NameError",
          "evalue": "name 'Portafolio' is not defined",
          "traceback": [
            "\u001b[0;31m---------------------------------------------------------------------------\u001b[0m",
            "\u001b[0;31mNameError\u001b[0m                                 Traceback (most recent call last)",
            "\u001b[0;32m<ipython-input-30-4896a564678a>\u001b[0m in \u001b[0;36m<cell line: 0>\u001b[0;34m()\u001b[0m\n\u001b[1;32m      1\u001b[0m \u001b[0mrendimiento_total\u001b[0m \u001b[0;34m=\u001b[0m \u001b[0;36m0\u001b[0m\u001b[0;34m\u001b[0m\u001b[0;34m\u001b[0m\u001b[0m\n\u001b[0;32m----> 2\u001b[0;31m \u001b[0;32mfor\u001b[0m \u001b[0mclientes\u001b[0m\u001b[0;34m,\u001b[0m\u001b[0mdatos\u001b[0m \u001b[0;32min\u001b[0m \u001b[0mPortafolio\u001b[0m\u001b[0;34m.\u001b[0m\u001b[0mitems\u001b[0m\u001b[0;34m(\u001b[0m\u001b[0;34m)\u001b[0m\u001b[0;34m:\u001b[0m\u001b[0;34m\u001b[0m\u001b[0;34m\u001b[0m\u001b[0m\n\u001b[0m\u001b[1;32m      3\u001b[0m          rendimiento_total = (datos[\"montos_invertidos\"] *\n\u001b[1;32m      4\u001b[0m                               datos[\"rendimientos\"]) / 100\n\u001b[1;32m      5\u001b[0m          \u001b[0mrendimiento_total\u001b[0m\u001b[0;34m+=\u001b[0m \u001b[0mrendimiento_cliente\u001b[0m\u001b[0;34m\u001b[0m\u001b[0;34m\u001b[0m\u001b[0m\n",
            "\u001b[0;31mNameError\u001b[0m: name 'Portafolio' is not defined"
          ]
        }
      ]
    }
  ]
}